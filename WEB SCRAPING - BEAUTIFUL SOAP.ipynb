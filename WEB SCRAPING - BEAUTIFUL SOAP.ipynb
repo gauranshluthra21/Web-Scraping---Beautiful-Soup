{
 "cells": [
  {
   "cell_type": "markdown",
   "id": "eb77983f",
   "metadata": {},
   "source": [
    "# WEB SCRAPING"
   ]
  },
  {
   "cell_type": "raw",
   "id": "e72c836c",
   "metadata": {},
   "source": [
    "is a technique for extracting information from the internet automatically using our script that stimulates human web surfing.\n",
    "it helps us extract large volumes from different websites"
   ]
  },
  {
   "cell_type": "markdown",
   "id": "a5a280dd",
   "metadata": {},
   "source": [
    "### Scraping Rules"
   ]
  },
  {
   "cell_type": "raw",
   "id": "1ffd852d",
   "metadata": {},
   "source": [
    ". Check a website's terms and conditions before scraping it.\n",
    ". Do not spam the website by making a lot of requests to a specific web page.\n",
    ". Update your code time to time."
   ]
  },
  {
   "cell_type": "markdown",
   "id": "3ec40749",
   "metadata": {},
   "source": [
    "### Libraries Used"
   ]
  },
  {
   "cell_type": "raw",
   "id": "fa60d6cc",
   "metadata": {},
   "source": [
    ". Beautifu Soup\n",
    ". Scrapy\n",
    ". Selenium"
   ]
  },
  {
   "cell_type": "markdown",
   "id": "57864f83",
   "metadata": {},
   "source": [
    "Beautiful Soup --- is a Python library that provides convenient methods for parsing HTML and XML documents. It is primarily used for web scraping, extracting data, and navigating through the parsed document tree. Beautiful Soup allows you to search, filter, and manipulate the parsed data using Pythonic syntax. It provides easy access to HTML tags, attributes, and text content, making it great for extracting specific data from web pages. Beautiful Soup is lightweight and easy to learn, but it does not handle the actual HTTP requests for web pages."
   ]
  },
  {
   "cell_type": "markdown",
   "id": "ed536b0f",
   "metadata": {},
   "source": [
    "Scrapy --- is a powerful and comprehensive web scraping framework written in Python. It provides a complete set of tools and functionalities for crawling and extracting data from websites. Scrapy handles the entire scraping process, including making HTTP requests, parsing HTML/XML responses, following links, and storing the scraped data. It is highly customizable and allows you to define spiders (scraping bots) that specify the scraping rules, data extraction methods, and data storage mechanisms. Scrapy is suitable for more complex scraping tasks and can handle large-scale scraping projects efficiently."
   ]
  },
  {
   "cell_type": "markdown",
   "id": "0ff27688",
   "metadata": {},
   "source": [
    "Selenium --- is a widely used open-source automation framework for web browsers. While it can be used for various purposes, it is commonly employed for web scraping tasks that require interacting with dynamic websites or JavaScript-rendered content. Selenium allows you to control web browsers programmatically, automate user actions (e.g., clicking buttons, filling forms), and extract data from web pages. It is particularly useful when scraping websites that heavily rely on JavaScript for content rendering. Selenium supports various web browsers and provides different drivers to interface with them (e.g., ChromeDriver, GeckoDriver)."
   ]
  },
  {
   "cell_type": "code",
   "execution_count": 1,
   "id": "62d7b4e5",
   "metadata": {},
   "outputs": [],
   "source": [
    "html = '<!Doctype html>\\\n",
    "<html>\\\n",
    "<head>\\\n",
    "<title> Testing Web Page </title>\\\n",
    "</head>\\\n",
    "<body>\\\n",
    "<h1> Web Scarping <h1>\\\n",
    "<p id =\"first_para\">\\\n",
    "Let\\'s start learning\\\n",
    "<b>\\\n",
    "Web Scraping\\\n",
    "</b>\\\n",
    "</p>\\\n",
    "<p class = \"abc\" id = \"second_para\">\\\n",
    "You can read more about beautiful soap from <a href = \"https://www.crummy.com/software/BeautifulSoup/bs4/doc/\"> here </a>\\\n",
    "</p>\\\n",
    "<p class =\"abc\">\\\n",
    "<a href = \"https://codingninjas.in/\"> Coding Ninjas </a>\\\n",
    "</p>\\\n",
    "</body>\\\n",
    "</html>'"
   ]
  },
  {
   "cell_type": "markdown",
   "id": "39abed92",
   "metadata": {},
   "source": [
    "bs4 library --- library in Python refers to Beautiful Soup 4, which is a popular library used for web scraping and parsing HTML/XML documents. It provides a simple and Pythonic way to extract data from web pages by navigating and searching through the parsed document tree."
   ]
  },
  {
   "cell_type": "code",
   "execution_count": 2,
   "id": "15b1be2e",
   "metadata": {},
   "outputs": [],
   "source": [
    "from bs4 import BeautifulSoup"
   ]
  },
  {
   "cell_type": "code",
   "execution_count": 3,
   "id": "892f6df0",
   "metadata": {},
   "outputs": [
    {
     "data": {
      "text/plain": [
       "<!DOCTYPE html>\n",
       "<html><head><title> Testing Web Page </title></head><body><h1> Web Scarping <h1><p id=\"first_para\">Let's start learning<b>Web Scraping</b></p><p class=\"abc\" id=\"second_para\">You can read more about beautiful soap from <a href=\"https://www.crummy.com/software/BeautifulSoup/bs4/doc/\"> here </a></p><p class=\"abc\"><a href=\"https://codingninjas.in/\"> Coding Ninjas </a></p></h1></h1></body></html>"
      ]
     },
     "execution_count": 3,
     "metadata": {},
     "output_type": "execute_result"
    }
   ],
   "source": [
    "data = BeautifulSoup(html, 'html.parser')\n",
    "data"
   ]
  },
  {
   "cell_type": "code",
   "execution_count": 4,
   "id": "1b66ebf0",
   "metadata": {},
   "outputs": [
    {
     "data": {
      "text/plain": [
       "bs4.BeautifulSoup"
      ]
     },
     "execution_count": 4,
     "metadata": {},
     "output_type": "execute_result"
    }
   ],
   "source": [
    "type(data)"
   ]
  },
  {
   "cell_type": "code",
   "execution_count": 5,
   "id": "cc0accb5",
   "metadata": {},
   "outputs": [
    {
     "name": "stdout",
     "output_type": "stream",
     "text": [
      "<!DOCTYPE html>\n",
      "<html>\n",
      " <head>\n",
      "  <title>\n",
      "   Testing Web Page\n",
      "  </title>\n",
      " </head>\n",
      " <body>\n",
      "  <h1>\n",
      "   Web Scarping\n",
      "   <h1>\n",
      "    <p id=\"first_para\">\n",
      "     Let's start learning\n",
      "     <b>\n",
      "      Web Scraping\n",
      "     </b>\n",
      "    </p>\n",
      "    <p class=\"abc\" id=\"second_para\">\n",
      "     You can read more about beautiful soap from\n",
      "     <a href=\"https://www.crummy.com/software/BeautifulSoup/bs4/doc/\">\n",
      "      here\n",
      "     </a>\n",
      "    </p>\n",
      "    <p class=\"abc\">\n",
      "     <a href=\"https://codingninjas.in/\">\n",
      "      Coding Ninjas\n",
      "     </a>\n",
      "    </p>\n",
      "   </h1>\n",
      "  </h1>\n",
      " </body>\n",
      "</html>\n"
     ]
    }
   ],
   "source": [
    "print(data.prettify())"
   ]
  },
  {
   "cell_type": "code",
   "execution_count": 6,
   "id": "248dfc9f",
   "metadata": {},
   "outputs": [
    {
     "data": {
      "text/plain": [
       "<title> Testing Web Page </title>"
      ]
     },
     "execution_count": 6,
     "metadata": {},
     "output_type": "execute_result"
    }
   ],
   "source": [
    "data.title"
   ]
  },
  {
   "cell_type": "code",
   "execution_count": 7,
   "id": "a0986506",
   "metadata": {},
   "outputs": [
    {
     "data": {
      "text/plain": [
       "<head><title> Testing Web Page </title></head>"
      ]
     },
     "execution_count": 7,
     "metadata": {},
     "output_type": "execute_result"
    }
   ],
   "source": [
    "data.head"
   ]
  },
  {
   "cell_type": "code",
   "execution_count": 8,
   "id": "9b013c2e",
   "metadata": {},
   "outputs": [
    {
     "data": {
      "text/plain": [
       "<p id=\"first_para\">Let's start learning<b>Web Scraping</b></p>"
      ]
     },
     "execution_count": 8,
     "metadata": {},
     "output_type": "execute_result"
    }
   ],
   "source": [
    "data.p"
   ]
  },
  {
   "cell_type": "code",
   "execution_count": 9,
   "id": "71ee3c48",
   "metadata": {},
   "outputs": [
    {
     "data": {
      "text/plain": [
       "<h1> Web Scarping <h1><p id=\"first_para\">Let's start learning<b>Web Scraping</b></p><p class=\"abc\" id=\"second_para\">You can read more about beautiful soap from <a href=\"https://www.crummy.com/software/BeautifulSoup/bs4/doc/\"> here </a></p><p class=\"abc\"><a href=\"https://codingninjas.in/\"> Coding Ninjas </a></p></h1></h1>"
      ]
     },
     "execution_count": 9,
     "metadata": {},
     "output_type": "execute_result"
    }
   ],
   "source": [
    "data.h1"
   ]
  },
  {
   "cell_type": "code",
   "execution_count": 10,
   "id": "3cdffe1e",
   "metadata": {},
   "outputs": [
    {
     "name": "stdout",
     "output_type": "stream",
     "text": [
      "<title> Testing Web Page </title>\n",
      "title\n",
      " Testing Web Page \n"
     ]
    }
   ],
   "source": [
    "print(data.title)\n",
    "print(data.title.name)\n",
    "print(data.title.string)"
   ]
  },
  {
   "cell_type": "code",
   "execution_count": 11,
   "id": "fe985759",
   "metadata": {},
   "outputs": [
    {
     "name": "stdout",
     "output_type": "stream",
     "text": [
      "{}\n"
     ]
    }
   ],
   "source": [
    "print(data.title.attrs)"
   ]
  },
  {
   "cell_type": "code",
   "execution_count": 12,
   "id": "21c46b71",
   "metadata": {},
   "outputs": [
    {
     "data": {
      "text/plain": [
       "{'id': 'first_para'}"
      ]
     },
     "execution_count": 12,
     "metadata": {},
     "output_type": "execute_result"
    }
   ],
   "source": [
    "data.p.attrs"
   ]
  },
  {
   "cell_type": "code",
   "execution_count": 13,
   "id": "e1debbbf",
   "metadata": {},
   "outputs": [
    {
     "data": {
      "text/plain": [
       "'first_para'"
      ]
     },
     "execution_count": 13,
     "metadata": {},
     "output_type": "execute_result"
    }
   ],
   "source": [
    "data.p['id']"
   ]
  },
  {
   "cell_type": "code",
   "execution_count": 14,
   "id": "6a588392",
   "metadata": {},
   "outputs": [
    {
     "data": {
      "text/plain": [
       "'first_para'"
      ]
     },
     "execution_count": 14,
     "metadata": {},
     "output_type": "execute_result"
    }
   ],
   "source": [
    "data.p.get('id')"
   ]
  },
  {
   "cell_type": "code",
   "execution_count": 15,
   "id": "af184bd1",
   "metadata": {},
   "outputs": [
    {
     "data": {
      "text/plain": [
       "\" Testing Web Page  Web Scarping Let's start learningWeb ScrapingYou can read more about beautiful soap from  here  Coding Ninjas \""
      ]
     },
     "execution_count": 15,
     "metadata": {},
     "output_type": "execute_result"
    }
   ],
   "source": [
    "data.get_text()"
   ]
  },
  {
   "cell_type": "code",
   "execution_count": 16,
   "id": "c3d2898b",
   "metadata": {},
   "outputs": [
    {
     "data": {
      "text/plain": [
       "<p id=\"first_para\">Let's start learning<b>Web Scraping</b></p>"
      ]
     },
     "execution_count": 16,
     "metadata": {},
     "output_type": "execute_result"
    }
   ],
   "source": [
    "data.find('p')"
   ]
  },
  {
   "cell_type": "code",
   "execution_count": 17,
   "id": "b2b3cf01",
   "metadata": {},
   "outputs": [
    {
     "data": {
      "text/plain": [
       "<h1> Web Scarping <h1><p id=\"first_para\">Let's start learning<b>Web Scraping</b></p><p class=\"abc\" id=\"second_para\">You can read more about beautiful soap from <a href=\"https://www.crummy.com/software/BeautifulSoup/bs4/doc/\"> here </a></p><p class=\"abc\"><a href=\"https://codingninjas.in/\"> Coding Ninjas </a></p></h1></h1>"
      ]
     },
     "execution_count": 17,
     "metadata": {},
     "output_type": "execute_result"
    }
   ],
   "source": [
    "data.find('h1')"
   ]
  },
  {
   "cell_type": "code",
   "execution_count": null,
   "id": "2c65f34f",
   "metadata": {},
   "outputs": [],
   "source": []
  },
  {
   "cell_type": "markdown",
   "id": "700d31a4",
   "metadata": {},
   "source": [
    "### Navigate Tree"
   ]
  },
  {
   "cell_type": "raw",
   "id": "b7ce766c",
   "metadata": {},
   "source": [
    ". Searching Parse Tree   --- This refers to the process of searching for specific elements or content within the parse tree.\n",
    ". Going Up               --- This navigation technique involves moving upwards from a given element in the parse tree to its                                  parent element.\n",
    ". Going Down             --- This technique involves moving downwards from a given element to its child elements in the parse                                tree.\n",
    ". Going Sideways         --- refers to moving horizontally within the parse tree, i.e., navigating to sibling elements. \n",
    ". Going Back & Forth     --- This navigation technique involves moving back and forth between elements in the parse tree"
   ]
  },
  {
   "cell_type": "markdown",
   "id": "71a0ec85",
   "metadata": {},
   "source": [
    "#### 1. Searching Parse Tree"
   ]
  },
  {
   "cell_type": "raw",
   "id": "1ff9ee26",
   "metadata": {},
   "source": [
    "find_all()\n",
    " \n",
    "    . String\n",
    "    . List\n",
    "    . True\n",
    "    . Using ID\n",
    "    . Using Class\n",
    "    . Using CSS Selector"
   ]
  },
  {
   "cell_type": "code",
   "execution_count": 18,
   "id": "33be670b",
   "metadata": {},
   "outputs": [
    {
     "name": "stdout",
     "output_type": "stream",
     "text": [
      "<p id=\"first_para\">Let's start learning<b>Web Scraping</b></p>\n",
      "<p class=\"abc\" id=\"second_para\">You can read more about beautiful soap from <a href=\"https://www.crummy.com/software/BeautifulSoup/bs4/doc/\"> here </a></p>\n",
      "<p class=\"abc\"><a href=\"https://codingninjas.in/\"> Coding Ninjas </a></p>\n"
     ]
    }
   ],
   "source": [
    "li = data.find_all('p')\n",
    "for i in li:\n",
    "    print(i)"
   ]
  },
  {
   "cell_type": "code",
   "execution_count": 19,
   "id": "d46cf2f9",
   "metadata": {},
   "outputs": [
    {
     "data": {
      "text/plain": [
       "[]"
      ]
     },
     "execution_count": 19,
     "metadata": {},
     "output_type": "execute_result"
    }
   ],
   "source": [
    "data.find_all('p','a')"
   ]
  },
  {
   "cell_type": "code",
   "execution_count": 20,
   "id": "4f079436",
   "metadata": {},
   "outputs": [
    {
     "data": {
      "text/plain": [
       "[<html><head><title> Testing Web Page </title></head><body><h1> Web Scarping <h1><p id=\"first_para\">Let's start learning<b>Web Scraping</b></p><p class=\"abc\" id=\"second_para\">You can read more about beautiful soap from <a href=\"https://www.crummy.com/software/BeautifulSoup/bs4/doc/\"> here </a></p><p class=\"abc\"><a href=\"https://codingninjas.in/\"> Coding Ninjas </a></p></h1></h1></body></html>,\n",
       " <head><title> Testing Web Page </title></head>,\n",
       " <title> Testing Web Page </title>,\n",
       " <body><h1> Web Scarping <h1><p id=\"first_para\">Let's start learning<b>Web Scraping</b></p><p class=\"abc\" id=\"second_para\">You can read more about beautiful soap from <a href=\"https://www.crummy.com/software/BeautifulSoup/bs4/doc/\"> here </a></p><p class=\"abc\"><a href=\"https://codingninjas.in/\"> Coding Ninjas </a></p></h1></h1></body>,\n",
       " <h1> Web Scarping <h1><p id=\"first_para\">Let's start learning<b>Web Scraping</b></p><p class=\"abc\" id=\"second_para\">You can read more about beautiful soap from <a href=\"https://www.crummy.com/software/BeautifulSoup/bs4/doc/\"> here </a></p><p class=\"abc\"><a href=\"https://codingninjas.in/\"> Coding Ninjas </a></p></h1></h1>,\n",
       " <h1><p id=\"first_para\">Let's start learning<b>Web Scraping</b></p><p class=\"abc\" id=\"second_para\">You can read more about beautiful soap from <a href=\"https://www.crummy.com/software/BeautifulSoup/bs4/doc/\"> here </a></p><p class=\"abc\"><a href=\"https://codingninjas.in/\"> Coding Ninjas </a></p></h1>,\n",
       " <p id=\"first_para\">Let's start learning<b>Web Scraping</b></p>,\n",
       " <b>Web Scraping</b>,\n",
       " <p class=\"abc\" id=\"second_para\">You can read more about beautiful soap from <a href=\"https://www.crummy.com/software/BeautifulSoup/bs4/doc/\"> here </a></p>,\n",
       " <a href=\"https://www.crummy.com/software/BeautifulSoup/bs4/doc/\"> here </a>,\n",
       " <p class=\"abc\"><a href=\"https://codingninjas.in/\"> Coding Ninjas </a></p>,\n",
       " <a href=\"https://codingninjas.in/\"> Coding Ninjas </a>]"
      ]
     },
     "execution_count": 20,
     "metadata": {},
     "output_type": "execute_result"
    }
   ],
   "source": [
    "data.find_all(True)"
   ]
  },
  {
   "cell_type": "code",
   "execution_count": 21,
   "id": "7b41b2f7",
   "metadata": {},
   "outputs": [
    {
     "data": {
      "text/plain": [
       "[<p id=\"first_para\">Let's start learning<b>Web Scraping</b></p>]"
      ]
     },
     "execution_count": 21,
     "metadata": {},
     "output_type": "execute_result"
    }
   ],
   "source": [
    "data.find_all(id = 'first_para')"
   ]
  },
  {
   "cell_type": "code",
   "execution_count": 22,
   "id": "9fc61c2e",
   "metadata": {},
   "outputs": [
    {
     "data": {
      "text/plain": [
       "[<p class=\"abc\" id=\"second_para\">You can read more about beautiful soap from <a href=\"https://www.crummy.com/software/BeautifulSoup/bs4/doc/\"> here </a></p>,\n",
       " <p class=\"abc\"><a href=\"https://codingninjas.in/\"> Coding Ninjas </a></p>]"
      ]
     },
     "execution_count": 22,
     "metadata": {},
     "output_type": "execute_result"
    }
   ],
   "source": [
    "data.find_all(class_ = 'abc')"
   ]
  },
  {
   "cell_type": "markdown",
   "id": "f9317aef",
   "metadata": {},
   "source": [
    "#### 2. Going Down"
   ]
  },
  {
   "cell_type": "raw",
   "id": "05149930",
   "metadata": {},
   "source": [
    ". Navigating Using Tag Names \n",
    "    . We can use nested tag names also\n",
    ". String\n",
    ". Strings and Stripped_Strings\n",
    ". Contents and Children\n",
    ". Descendants"
   ]
  },
  {
   "cell_type": "code",
   "execution_count": 23,
   "id": "b5672488",
   "metadata": {},
   "outputs": [
    {
     "name": "stdout",
     "output_type": "stream",
     "text": [
      "None\n",
      "None\n",
      " Coding Ninjas \n"
     ]
    }
   ],
   "source": [
    "for i in li:\n",
    "    print(i.string)"
   ]
  },
  {
   "cell_type": "code",
   "execution_count": 24,
   "id": "dc483b1e",
   "metadata": {},
   "outputs": [
    {
     "name": "stdout",
     "output_type": "stream",
     "text": [
      "[\"Let's start learning\", 'Web Scraping']\n",
      "['You can read more about beautiful soap from ', ' here ']\n",
      "[' Coding Ninjas ']\n"
     ]
    }
   ],
   "source": [
    "for i in li:\n",
    "    print(list(i.strings))"
   ]
  },
  {
   "cell_type": "code",
   "execution_count": 25,
   "id": "26793527",
   "metadata": {},
   "outputs": [
    {
     "name": "stdout",
     "output_type": "stream",
     "text": [
      "[\"Let's start learning\", 'Web Scraping']\n",
      "['You can read more about beautiful soap from', 'here']\n",
      "['Coding Ninjas']\n"
     ]
    }
   ],
   "source": [
    "for i in li:\n",
    "    print(list(i.stripped_strings))  # using this extra spaces from start and end are removed"
   ]
  },
  {
   "cell_type": "code",
   "execution_count": 26,
   "id": "b717e9ca",
   "metadata": {},
   "outputs": [
    {
     "name": "stdout",
     "output_type": "stream",
     "text": [
      "2\n",
      "[<head><title> Testing Web Page </title></head>, <body><h1> Web Scarping <h1><p id=\"first_para\">Let's start learning<b>Web Scraping</b></p><p class=\"abc\" id=\"second_para\">You can read more about beautiful soap from <a href=\"https://www.crummy.com/software/BeautifulSoup/bs4/doc/\"> here </a></p><p class=\"abc\"><a href=\"https://codingninjas.in/\"> Coding Ninjas </a></p></h1></h1></body>]\n"
     ]
    }
   ],
   "source": [
    "li = data.html.contents\n",
    "print(len(li))\n",
    "print(li)"
   ]
  },
  {
   "cell_type": "code",
   "execution_count": 27,
   "id": "bef5777e",
   "metadata": {},
   "outputs": [
    {
     "name": "stdout",
     "output_type": "stream",
     "text": [
      "<head><title> Testing Web Page </title></head>\n",
      "<body><h1> Web Scarping <h1><p id=\"first_para\">Let's start learning<b>Web Scraping</b></p><p class=\"abc\" id=\"second_para\">You can read more about beautiful soap from <a href=\"https://www.crummy.com/software/BeautifulSoup/bs4/doc/\"> here </a></p><p class=\"abc\"><a href=\"https://codingninjas.in/\"> Coding Ninjas </a></p></h1></h1></body>\n"
     ]
    }
   ],
   "source": [
    "li2 = data.html.children\n",
    "for i in li2:\n",
    "    print(i)"
   ]
  },
  {
   "cell_type": "markdown",
   "id": "e1754a91",
   "metadata": {},
   "source": [
    "Contents --- attribute returns a list of all immediate children of a tag or the contents of a tag as a list. It includes both the tags and the non-tag elements (such as text) that are direct children of the tag.\n",
    "\n",
    "Children --- attribute returns an iterator that allows you to iterate over all immediate children of a tag. It includes both the tags and the non-tag elements (such as text) that are direct children of the tag"
   ]
  },
  {
   "cell_type": "code",
   "execution_count": null,
   "id": "1c12a2f1",
   "metadata": {},
   "outputs": [],
   "source": []
  }
 ],
 "metadata": {
  "kernelspec": {
   "display_name": "Python 3 (ipykernel)",
   "language": "python",
   "name": "python3"
  },
  "language_info": {
   "codemirror_mode": {
    "name": "ipython",
    "version": 3
   },
   "file_extension": ".py",
   "mimetype": "text/x-python",
   "name": "python",
   "nbconvert_exporter": "python",
   "pygments_lexer": "ipython3",
   "version": "3.10.9"
  }
 },
 "nbformat": 4,
 "nbformat_minor": 5
}
